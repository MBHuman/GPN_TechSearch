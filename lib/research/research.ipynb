{
 "cells": [
  {
   "cell_type": "code",
   "execution_count": 17,
   "id": "37b5e154",
   "metadata": {},
   "outputs": [],
   "source": [
    "import networkx as nx\n",
    "from selenium import webdriver\n",
    "import time\n",
    "import random"
   ]
  },
  {
   "cell_type": "code",
   "execution_count": 41,
   "id": "98afaf9d",
   "metadata": {},
   "outputs": [],
   "source": [
    "def r_time():\n",
    "    time.sleep(random.gauss(2, 1))\n"
   ]
  },
  {
   "cell_type": "code",
   "execution_count": 47,
   "id": "b38df621",
   "metadata": {},
   "outputs": [],
   "source": [
    "driver = webdriver.Firefox()\n",
    "r_time()\n",
    "driver.get('https://yandex.com/search/?text=машиностроение')\n",
    "r_time()\n",
    "# driver.find_element_by_class_name('CheckboxCaptcha-Anchor').click()\n",
    "serps = driver.find_elements_by_class_name('serp-item')"
   ]
  },
  {
   "cell_type": "code",
   "execution_count": 1,
   "id": "733de10d",
   "metadata": {},
   "outputs": [
    {
     "ename": "NameError",
     "evalue": "name 'serps' is not defined",
     "output_type": "error",
     "traceback": [
      "\u001b[0;31m---------------------------------------------------------------------------\u001b[0m",
      "\u001b[0;31mNameError\u001b[0m                                 Traceback (most recent call last)",
      "\u001b[0;32m<ipython-input-1-cc32b4f9095f>\u001b[0m in \u001b[0;36m<module>\u001b[0;34m\u001b[0m\n\u001b[0;32m----> 1\u001b[0;31m \u001b[0mserps\u001b[0m\u001b[0;34m[\u001b[0m\u001b[0;36m0\u001b[0m\u001b[0;34m]\u001b[0m\u001b[0;34m\u001b[0m\u001b[0;34m\u001b[0m\u001b[0m\n\u001b[0m",
      "\u001b[0;31mNameError\u001b[0m: name 'serps' is not defined"
     ]
    }
   ],
   "source": [
    "serps[0]"
   ]
  },
  {
   "cell_type": "code",
   "execution_count": 2,
   "id": "abd65981",
   "metadata": {},
   "outputs": [],
   "source": [
    "import pandas as pd"
   ]
  },
  {
   "cell_type": "code",
   "execution_count": 10,
   "id": "56dcf92f",
   "metadata": {},
   "outputs": [
    {
     "data": {
      "text/html": [
       "<div>\n",
       "<style scoped>\n",
       "    .dataframe tbody tr th:only-of-type {\n",
       "        vertical-align: middle;\n",
       "    }\n",
       "\n",
       "    .dataframe tbody tr th {\n",
       "        vertical-align: top;\n",
       "    }\n",
       "\n",
       "    .dataframe thead th {\n",
       "        text-align: right;\n",
       "    }\n",
       "</style>\n",
       "<table border=\"1\" class=\"dataframe\">\n",
       "  <thead>\n",
       "    <tr style=\"text-align: right;\">\n",
       "      <th></th>\n",
       "      <th>name</th>\n",
       "      <th>url</th>\n",
       "      <th>description</th>\n",
       "      <th>phones</th>\n",
       "      <th>mail</th>\n",
       "      <th>category</th>\n",
       "      <th>address</th>\n",
       "    </tr>\n",
       "  </thead>\n",
       "  <tbody>\n",
       "    <tr>\n",
       "      <th>0</th>\n",
       "      <td></td>\n",
       "      <td></td>\n",
       "      <td></td>\n",
       "      <td></td>\n",
       "      <td></td>\n",
       "      <td></td>\n",
       "      <td></td>\n",
       "    </tr>\n",
       "    <tr>\n",
       "      <th>1</th>\n",
       "      <td></td>\n",
       "      <td></td>\n",
       "      <td></td>\n",
       "      <td></td>\n",
       "      <td></td>\n",
       "      <td></td>\n",
       "      <td></td>\n",
       "    </tr>\n",
       "  </tbody>\n",
       "</table>\n",
       "</div>"
      ],
      "text/plain": [
       "  name url description phones mail category address\n",
       "0                                                  \n",
       "1                                                  "
      ]
     },
     "execution_count": 10,
     "metadata": {},
     "output_type": "execute_result"
    }
   ],
   "source": [
    "dataFrame = pd.DataFrame(columns=['name', 'url','description','phones','mail','category','address'])\n",
    "dataFrame = dataFrame.append({\n",
    "    'name': '',\n",
    "    'url': '',\n",
    "    'description': '',\n",
    "    'phones': '',\n",
    "    'mail': '',\n",
    "    'category': '',\n",
    "    'address': ''\n",
    "}, ignore_index=True)\n",
    "dataFrame = dataFrame.append({\n",
    "    'name': '',\n",
    "    'url': '',\n",
    "    'description': '',\n",
    "    'phones': '',\n",
    "    'mail': '',\n",
    "    'category': '',\n",
    "    'address': ''\n",
    "}, ignore_index=True)\n",
    "dataFrame"
   ]
  },
  {
   "cell_type": "code",
   "execution_count": 15,
   "id": "df03c8a5",
   "metadata": {},
   "outputs": [],
   "source": [
    "dataFrame.to_csv('temporary_data/first.csv')"
   ]
  },
  {
   "cell_type": "code",
   "execution_count": null,
   "id": "f4a70c6e",
   "metadata": {},
   "outputs": [],
   "source": [
    "G = nx.DiGraph()\n"
   ]
  }
 ],
 "metadata": {
  "kernelspec": {
   "display_name": "Python 3",
   "language": "python",
   "name": "python3"
  },
  "language_info": {
   "codemirror_mode": {
    "name": "ipython",
    "version": 3
   },
   "file_extension": ".py",
   "mimetype": "text/x-python",
   "name": "python",
   "nbconvert_exporter": "python",
   "pygments_lexer": "ipython3",
   "version": "3.9.5"
  }
 },
 "nbformat": 4,
 "nbformat_minor": 5
}
