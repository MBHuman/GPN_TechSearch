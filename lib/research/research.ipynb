{
 "cells": [
  {
   "cell_type": "code",
   "execution_count": 17,
   "id": "37b5e154",
   "metadata": {},
   "outputs": [],
   "source": [
    "import networkx as nx\n",
    "from selenium import webdriver\n",
    "import time\n",
    "import random"
   ]
  },
  {
   "cell_type": "code",
   "execution_count": 41,
   "id": "98afaf9d",
   "metadata": {},
   "outputs": [],
   "source": [
    "def r_time():\n",
    "    time.sleep(random.gauss(2, 1))\n"
   ]
  },
  {
   "cell_type": "code",
   "execution_count": 47,
   "id": "b38df621",
   "metadata": {},
   "outputs": [],
   "source": [
    "driver = webdriver.Firefox()\n",
    "r_time()\n",
    "driver.get('https://yandex.com/search/?text=машиностроение')\n",
    "r_time()\n",
    "# driver.find_element_by_class_name('CheckboxCaptcha-Anchor').click()\n",
    "serps = driver.find_elements_by_class_name('serp-item')"
   ]
  },
  {
   "cell_type": "code",
   "execution_count": 49,
   "id": "733de10d",
   "metadata": {},
   "outputs": [
    {
     "data": {
      "text/plain": [
       "<selenium.webdriver.firefox.webelement.FirefoxWebElement (session=\"0591ce45-02cc-2a44-a19e-e125718b6020\", element=\"48a2e918-8a1a-1b44-9d06-39884e22d645\")>"
      ]
     },
     "execution_count": 49,
     "metadata": {},
     "output_type": "execute_result"
    }
   ],
   "source": [
    "serps[0]"
   ]
  },
  {
   "cell_type": "code",
   "execution_count": null,
   "id": "f4a70c6e",
   "metadata": {},
   "outputs": [],
   "source": [
    "G = nx.DiGraph()\n"
   ]
  }
 ],
 "metadata": {
  "kernelspec": {
   "display_name": "Python 3",
   "language": "python",
   "name": "python3"
  },
  "language_info": {
   "codemirror_mode": {
    "name": "ipython",
    "version": 3
   },
   "file_extension": ".py",
   "mimetype": "text/x-python",
   "name": "python",
   "nbconvert_exporter": "python",
   "pygments_lexer": "ipython3",
   "version": "3.9.5"
  }
 },
 "nbformat": 4,
 "nbformat_minor": 5
}
